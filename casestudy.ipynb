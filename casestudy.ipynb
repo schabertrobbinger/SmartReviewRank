{
 "cells": [
  {
   "cell_type": "markdown",
   "metadata": {},
   "source": [
    "In this notebook, I demonstrate in the context of a high-profile example,"
   ]
  },
  {
   "cell_type": "markdown",
   "metadata": {},
   "source": [
    "<img src=\"warrenbuffetbook.png\">"
   ]
  },
  {
   "cell_type": "markdown",
   "metadata": {},
   "source": [
    " how Amazon.com's ratings and its \"Top reviewers\" review ranking system can spectacularly fail to alert users to the presence of deceptive product marketing."
   ]
  },
  {
   "cell_type": "markdown",
   "metadata": {},
   "source": [
    "A first hint that something is wrong here comes from the cover of *Warren Buffett and the interpretation of financial statements*. From the suggestive layout and Mary Buffett's last name, it would be natural to conclude that Warren Buffett endorsed this book; perhaps one might even conjecture that the book is concerned with an analysis of Buffett's financial writings. Of course, a quick web search reveals that Mary Buffett is no longer part of the Buffett clan."
   ]
  },
  {
   "cell_type": "markdown",
   "metadata": {},
   "source": [
    "However, the 738 reviews of *Warren Buffett and the interpretation of financial statements* are overwhelmingly positive:"
   ]
  },
  {
   "cell_type": "markdown",
   "metadata": {},
   "source": [
    "<img src=\"reviews.png\">"
   ]
  },
  {
   "cell_type": "markdown",
   "metadata": {},
   "source": [
    "Based on ratings alone, it would seem that the book is good, despite its dodgy cover."
   ]
  },
  {
   "cell_type": "markdown",
   "metadata": {},
   "source": [
    "Four reviews from the top, however, is something quite alarming:"
   ]
  },
  {
   "cell_type": "markdown",
   "metadata": {},
   "source": [
    "<img src=\"suspiciousreview.png\">"
   ]
  },
  {
   "cell_type": "markdown",
   "metadata": {},
   "source": [
    "Obviously, at this point, it would be a mistake to assume that all of the five-star ratings are in any way indicative of quality."
   ]
  },
  {
   "cell_type": "markdown",
   "metadata": {},
   "source": [
    "Naively, one might find this glaring positivity bias uninteresting, as it can be explained away in this instance as being the result of \"bad actors\" offering money to a subset of consumers in exchange for five-star reviews. Unfortunately but remarkably, my analysis of more than two million Amazon.com video game reviews suggests that a positivity bias exists far more generally; in fact, it appears that the vast majority of reviewers *overall* award products four or five stars."
   ]
  },
  {
   "cell_type": "markdown",
   "metadata": {},
   "source": [
    "This indicates that one should view product rating as a very coarse selection criteria."
   ]
  },
  {
   "cell_type": "markdown",
   "metadata": {},
   "source": [
    "What about Amazon.com's \"Top reviews\"? Do they provide a clearer picture or offer helpful advice for consumers?"
   ]
  },
  {
   "cell_type": "markdown",
   "metadata": {},
   "source": [
    "<img src=\"topreviews.png\">"
   ]
  },
  {
   "cell_type": "markdown",
   "metadata": {},
   "source": [
    "Here, another problem presents itself, that of reputation. These reviews could not be more different, but are consumers more likely to trust \"Charlie\", a Top Contributor in Philosophy, or \"Anonymous\"? Personally, I find it very useful to know that the book makes fundamental errors, but it is not clear that consumers will get the message from the way in which Amazon ranks and presents its \"Top reviews\"."
   ]
  },
  {
   "cell_type": "markdown",
   "metadata": {},
   "source": [
    "Indeed, I find it very questionable that Amazon seems to severely penalize excellent older reviews, simply due to their age. My favorite review of all, "
   ]
  },
  {
   "cell_type": "markdown",
   "metadata": {},
   "source": [
    "<img src=\"bestreview.png\">"
   ]
  },
  {
   "cell_type": "markdown",
   "metadata": {},
   "source": [
    "was buried five reviews from the top of the list of one-star reviews. I find this inexcusable, as it provides excellent consumer advice: intelligent individuals ought to purchase *Techniques of Financial Analysis* by Helfert instead."
   ]
  },
  {
   "cell_type": "markdown",
   "metadata": {},
   "source": [
    "Not only does this review have more upvotes than the top positive review shown above, it suggests a better alternative rather than just bashing the book!"
   ]
  },
  {
   "cell_type": "markdown",
   "metadata": {},
   "source": [
    "Altogether, I came away from this case study with the belief that it should be possible to offer a compelling alternative to \"Top reviews\" by ignoring ratings, training a model to recognize substantive content, such as that offered in the one-star review above, and not discriminating arbitrarily against old reviews."
   ]
  },
  {
   "cell_type": "code",
   "execution_count": null,
   "metadata": {},
   "outputs": [],
   "source": []
  }
 ],
 "metadata": {
  "kernelspec": {
   "display_name": "Python 3",
   "language": "python",
   "name": "python3"
  },
  "language_info": {
   "codemirror_mode": {
    "name": "ipython",
    "version": 3
   },
   "file_extension": ".py",
   "mimetype": "text/x-python",
   "name": "python",
   "nbconvert_exporter": "python",
   "pygments_lexer": "ipython3",
   "version": "3.6.9"
  }
 },
 "nbformat": 4,
 "nbformat_minor": 2
}
