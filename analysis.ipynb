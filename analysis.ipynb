{
 "cells": [
  {
   "cell_type": "markdown",
   "metadata": {},
   "source": [
    "Below, I show some exploratory plots I made using Wolfram Mathematica on the 2018 Amazon video game review data."
   ]
  },
  {
   "cell_type": "markdown",
   "metadata": {},
   "source": [
    "First of all, I observed a strong positivity bias."
   ]
  },
  {
   "cell_type": "markdown",
   "metadata": {},
   "source": [
    "That is to say, the vast majority of reviewers seem to give the video games they purchased four or five stars:"
   ]
  },
  {
   "cell_type": "markdown",
   "metadata": {},
   "source": [
    "<img src=\"ratingshistogram1.png\">"
   ]
  },
  {
   "cell_type": "markdown",
   "metadata": {},
   "source": [
    "I rejected a number of reviews for various reasons, so my final sample size was a little over two million."
   ]
  },
  {
   "cell_type": "markdown",
   "metadata": {},
   "source": [
    "In light of the fact that positivity bias was a major cause of concern to me in my non-fiction case study as well, I expect that identifying ranking metrics which are unencumbered by this bias will be one of my main challenges. My plan is to analyze samples of review text strings using natural language toolkits and then train an appropriate classifier function using machine learning techniques."
   ]
  },
  {
   "cell_type": "markdown",
   "metadata": {},
   "source": [
    "To start, I spent some time looking for positive correlations in my data sample. Given the remarkable plot above, I wondered whether there would be a strong correlation between the average length of a review and the rating. This seemed plausible to me because more time invested could perhaps indicate an especially positive or an especially negative experience. Unfortunately, the result was not what I expected:"
   ]
  },
  {
   "cell_type": "markdown",
   "metadata": {},
   "source": [
    "<img src=\"ratingshistogram2.png\">"
   ]
  },
  {
   "cell_type": "markdown",
   "metadata": {},
   "source": [
    "It turned out to be more useful to look at a plot of the mean length of reviews with a certain number of upvotes. The number of upvotes is supposed to indicate how \"helpful\" the review was to others, so it is no surprise that this correlates with the amount of effort that went into creating the reviews:"
   ]
  },
  {
   "cell_type": "markdown",
   "metadata": {},
   "source": [
    "<img src=\"upvoteplot1.png\">"
   ]
  },
  {
   "cell_type": "markdown",
   "metadata": {},
   "source": [
    "A linear relationship for small numbers of upvotes was also observed in a slightly different context. A qualitatively-similar plot is produced if you consider the average number of upvotes received as a function of the number of contributed reviews from users with more than one published review:"
   ]
  },
  {
   "cell_type": "markdown",
   "metadata": {},
   "source": [
    "<img src=\"upvoteplot2.png\">"
   ]
  },
  {
   "cell_type": "markdown",
   "metadata": {},
   "source": [
    "A curious feature of the above two plots is that the observed linear relationships break down at some point."
   ]
  },
  {
   "cell_type": "markdown",
   "metadata": {},
   "source": [
    "A cursory look at some of the outlying reviews revealed that many were either intended to be satirical or were written by professional gamers."
   ]
  },
  {
   "cell_type": "markdown",
   "metadata": {},
   "source": [
    "Finally, I was curious as to whether I could get a sense for the validity of Amazon.com's policy of awarding a higher rank to newer reviews solely based on their freshness. The plot I produced,"
   ]
  },
  {
   "cell_type": "markdown",
   "metadata": {},
   "source": [
    "<img src=\"upvoteplot3.png\">"
   ]
  },
  {
   "cell_type": "markdown",
   "metadata": {},
   "source": [
    "was a bit too busy and my question has not been resolved to my satisfaction. However, I do not get the sense that the older reviews necessarily garner excessive numbers of upvotes solely because they have been around for longer. Indeed, the review which I found most useful in my case study was rather old but had a number of upvotes comparable to the \"Top reviews\" selected by Amazon.com's ranking algorithm."
   ]
  },
  {
   "cell_type": "code",
   "execution_count": null,
   "metadata": {},
   "outputs": [],
   "source": []
  }
 ],
 "metadata": {
  "kernelspec": {
   "display_name": "Python 3",
   "language": "python",
   "name": "python3"
  },
  "language_info": {
   "codemirror_mode": {
    "name": "ipython",
    "version": 3
   },
   "file_extension": ".py",
   "mimetype": "text/x-python",
   "name": "python",
   "nbconvert_exporter": "python",
   "pygments_lexer": "ipython3",
   "version": "3.6.9"
  }
 },
 "nbformat": 4,
 "nbformat_minor": 2
}
